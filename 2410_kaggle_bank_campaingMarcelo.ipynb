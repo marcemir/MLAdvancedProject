{
 "cells": [
  {
   "cell_type": "markdown",
   "metadata": {
    "id": "b84GYH2rNcg-"
   },
   "source": [
    "<center> <img src=https://i.imgur.com/0TSSaqL.png width=\"550\"> </center>\n",
    "*\n",
    "<center> <h3> Module 9: Machine Learning Advanced</h3> </center>\n",
    "<center> <h4> Classification models </h4> </center>\n",
    "*"
   ]
  },
  {
   "cell_type": "markdown",
   "metadata": {
    "id": "CThb8ZqGOOsu"
   },
   "source": [
    "###**WORKING ENVIRONMENT SET UP**"
   ]
  },
  {
   "cell_type": "code",
   "execution_count": 4,
   "metadata": {
    "id": "3LrFKqLKNTae"
   },
   "outputs": [],
   "source": [
    "# Data manipulation\n",
    "import pandas as pd\n",
    "import numpy as np\n",
    "\n",
    "# Plotting\n",
    "import matplotlib.pyplot as plt\n",
    "import seaborn as sns\n",
    "from matplotlib import pyplot\n",
    "%matplotlib inline\n",
    "\n",
    "# ML Libraries\n",
    "from sklearn.metrics import classification_report,confusion_matrix\n",
    "from sklearn.model_selection import train_test_split\n",
    "import sklearn.metrics as metrics\n",
    "\n",
    "from sklearn.linear_model import LogisticRegression\n",
    "from sklearn.naive_bayes import GaussianNB\n",
    "from sklearn.neighbors import KNeighborsClassifier\n",
    "\n",
    "from sklearn.tree import DecisionTreeClassifier\n",
    "from sklearn.ensemble import RandomForestClassifier\n",
    "from sklearn.ensemble import AdaBoostClassifier\n",
    "from xgboost import XGBClassifier\n",
    "\n",
    "\n",
    "# Tree Visualization\n",
    "from IPython.display import Image\n",
    "from sklearn.tree import export_graphviz\n",
    "#!pip install pydot\n",
    "import pydot\n",
    "\n",
    "# Save model / deployment\n",
    "import pickle\n",
    "import sys\n"
   ]
  },
  {
   "cell_type": "markdown",
   "metadata": {
    "id": "2Uka-VtAOjit"
   },
   "source": [
    "## 1.- Load Data"
   ]
  },
  {
   "cell_type": "markdown",
   "metadata": {
    "id": "s-ovwdHXM8Ff"
   },
   "source": [
    "El dataset consiste en un conjunto de 19 parámetros calculados a partir registros de camañas pasadas asociadas al cliente. Estas variables, recogen distintas características del cliente, desde su edad, estado civil, educación así como información asociada a la cuenta.\n",
    "\n",
    "\n",
    "**Descripción del dataset**\n",
    "\n",
    "Este problema de clasificación binaria tiene como objetivo predecir si el cliente suscribirá un depósito bancario a plazo (variable **output**).\n",
    "\n",
    "Variables de entrada:\n",
    "\n",
    "#### Bank client data:\n",
    "- **age** (numeric)\n",
    "\n",
    "- **job**: type of job (categorical: \"admin.\",\"blue-collar\",\"entrepreneur\",\"housemaid\",\"management\",\"retired\",\"self-employed\",\"services\",\"student\",\"technician\",\"unemployed\",\"unknown\")\n",
    "\n",
    "- **marital_status** : marital status (categorical: \"divorced\",\"married\",\"single\",\"unknown\"; note: \"divorced\" means divorced or widowed)\n",
    "\n",
    "- **education_level** (categorical: \"basic.4y\",\"basic.6y\",\"basic.9y\",\"high.school\",\"illiterate\",\"professional.course\",\"university.degree\",\"unknown\")\n",
    "\n",
    "- **is_default**: has credit in default? (categorical: \"no\",\"yes\",\"unknown\")\n",
    "\n",
    "- **housing_type**: has housing loan? (categorical: \"no\",\"yes\",\"unknown\")\n",
    "\n",
    "- **loan:** has personal loan? (categorical: \"no\",\"yes\",\"unknown\")\n",
    "\n",
    "#### Related with the last contact of the current campaign:\n",
    "\n",
    "- **contact:** contact communication type (categorical: \"cellular\",\"telephone\")\n",
    "\n",
    "- **month:** last contact month of year (categorical: \"jan\", \"feb\", \"mar\", …, \"nov\", \"dec\")\n",
    "\n",
    "- **day_of_week:** last contact day of the week (categorical: \"mon\",\"tue\",\"wed\",\"thu\",\"fri\")\n",
    "\n",
    "##### Other attributes:\n",
    "- **campaign:** number of contacts performed during this campaign and for this client (numeric, includes last contact)\n",
    "\n",
    "- **pdays:** number of days that passed by after the client was last contacted from a previous campaign (numeric; 999 means client was not previously contacted)\n",
    "\n",
    "- **previous:** number of contacts performed before this campaign and for this client (numeric)\n",
    "\n",
    "- **poutcome:** outcome of the previous marketing campaign (categorical: \"failure\", \"nonexistent\", \"success\")\n",
    "\n",
    "##### Social and economic context attributes\n",
    "- **emp_var_rate:** employment variation rate - quarterly indicator (numeric)\n",
    "\n",
    "- **cons_price_index:** consumer price index - monthly indicator (numeric)\n",
    "\n",
    "- **cons_conf_index**: consumer confidence index - monthly indicator (numeric)\n",
    "\n",
    "- **euribor_3m:** euribor 3 month rate - daily indicator (numeric)\n",
    "\n",
    "- **n_employed**: number of employees - quarterly indicator (numeric)\n",
    "\n",
    "##### Output variable (desired target):\n",
    "- **output**: - has the client subscribed a term deposit? (binary: \"yes\",\"no\")"
   ]
  },
  {
   "cell_type": "code",
   "execution_count": null,
   "metadata": {
    "id": "-f5rts-vJJsl"
   },
   "outputs": [],
   "source": [
    "Local = True"
   ]
  },
  {
   "cell_type": "code",
   "execution_count": 1,
   "metadata": {
    "colab": {
     "base_uri": "https://localhost:8080/"
    },
    "id": "c7W7sreyOscZ",
    "outputId": "0ea63785-9b8d-4625-a49d-4c2bd185bb96"
   },
   "outputs": [
    {
     "data": {
      "text/plain": [
       "'if Local == True:\\n    !gdown https://drive.google.com/uc?id=1X7AIcMKUOA7-nOUptjo2Cx6lL4hIIHzQ\\n    # https://drive.google.com/file/d/1nxD5meFAO-NvDhuteBJ7KgifG10Bfsoa/view?usp=sharing\\n    train_df = pd.read_csv(\\'train.csv\\').drop(\\'id\\', axis=1)\\nelse:\\n    train_df = pd.read_csv(\"/kaggle/input/2310-machine-learning-avanzado-immune/train.csv\").drop(\\'id\\', axis=1)\\n'"
      ]
     },
     "execution_count": 1,
     "metadata": {},
     "output_type": "execute_result"
    }
   ],
   "source": [
    "'''if Local == True:\n",
    "    !gdown https://drive.google.com/uc?id=1X7AIcMKUOA7-nOUptjo2Cx6lL4hIIHzQ\n",
    "    # https://drive.google.com/file/d/1nxD5meFAO-NvDhuteBJ7KgifG10Bfsoa/view?usp=sharing\n",
    "    train_df = pd.read_csv('train.csv').drop('id', axis=1)\n",
    "else:\n",
    "    train_df = pd.read_csv(\"/kaggle/input/2310-machine-learning-avanzado-immune/train.csv\").drop('id', axis=1)\n",
    "'''"
   ]
  },
  {
   "cell_type": "code",
   "execution_count": 7,
   "metadata": {
    "id": "4WiWeS6nCJ0s"
   },
   "outputs": [],
   "source": [
    "train_df = pd.read_csv('train.csv').drop('id', axis=1)"
   ]
  },
  {
   "cell_type": "code",
   "execution_count": 8,
   "metadata": {
    "colab": {
     "base_uri": "https://localhost:8080/",
     "height": 226
    },
    "id": "TaRUFEXGCPp1",
    "outputId": "49d85daa-cebd-483d-a4e3-a489bce938ea"
   },
   "outputs": [
    {
     "data": {
      "text/html": [
       "<div>\n",
       "<style scoped>\n",
       "    .dataframe tbody tr th:only-of-type {\n",
       "        vertical-align: middle;\n",
       "    }\n",
       "\n",
       "    .dataframe tbody tr th {\n",
       "        vertical-align: top;\n",
       "    }\n",
       "\n",
       "    .dataframe thead th {\n",
       "        text-align: right;\n",
       "    }\n",
       "</style>\n",
       "<table border=\"1\" class=\"dataframe\">\n",
       "  <thead>\n",
       "    <tr style=\"text-align: right;\">\n",
       "      <th></th>\n",
       "      <th>age</th>\n",
       "      <th>job</th>\n",
       "      <th>marital_status</th>\n",
       "      <th>education_level</th>\n",
       "      <th>is_default</th>\n",
       "      <th>housing_type</th>\n",
       "      <th>loan</th>\n",
       "      <th>contact</th>\n",
       "      <th>month</th>\n",
       "      <th>day_of_week</th>\n",
       "      <th>campaing</th>\n",
       "      <th>pdays</th>\n",
       "      <th>previous</th>\n",
       "      <th>poutcome</th>\n",
       "      <th>emp_var_rate</th>\n",
       "      <th>cons_price_index</th>\n",
       "      <th>cons_conf_index</th>\n",
       "      <th>euribor_3m</th>\n",
       "      <th>n_employed</th>\n",
       "      <th>output</th>\n",
       "    </tr>\n",
       "  </thead>\n",
       "  <tbody>\n",
       "    <tr>\n",
       "      <th>0</th>\n",
       "      <td>57</td>\n",
       "      <td>services</td>\n",
       "      <td>married</td>\n",
       "      <td>high.school</td>\n",
       "      <td>unknown</td>\n",
       "      <td>no</td>\n",
       "      <td>no</td>\n",
       "      <td>telephone</td>\n",
       "      <td>may</td>\n",
       "      <td>mon</td>\n",
       "      <td>1</td>\n",
       "      <td>999</td>\n",
       "      <td>0</td>\n",
       "      <td>nonexistent</td>\n",
       "      <td>1.1</td>\n",
       "      <td>93.994</td>\n",
       "      <td>-36.4</td>\n",
       "      <td>4.857</td>\n",
       "      <td>5191.0</td>\n",
       "      <td>0</td>\n",
       "    </tr>\n",
       "    <tr>\n",
       "      <th>1</th>\n",
       "      <td>37</td>\n",
       "      <td>services</td>\n",
       "      <td>married</td>\n",
       "      <td>high.school</td>\n",
       "      <td>no</td>\n",
       "      <td>yes</td>\n",
       "      <td>no</td>\n",
       "      <td>telephone</td>\n",
       "      <td>may</td>\n",
       "      <td>mon</td>\n",
       "      <td>1</td>\n",
       "      <td>999</td>\n",
       "      <td>0</td>\n",
       "      <td>nonexistent</td>\n",
       "      <td>1.1</td>\n",
       "      <td>93.994</td>\n",
       "      <td>-36.4</td>\n",
       "      <td>4.857</td>\n",
       "      <td>5191.0</td>\n",
       "      <td>0</td>\n",
       "    </tr>\n",
       "    <tr>\n",
       "      <th>2</th>\n",
       "      <td>40</td>\n",
       "      <td>admin.</td>\n",
       "      <td>married</td>\n",
       "      <td>basic.6y</td>\n",
       "      <td>no</td>\n",
       "      <td>no</td>\n",
       "      <td>no</td>\n",
       "      <td>telephone</td>\n",
       "      <td>may</td>\n",
       "      <td>mon</td>\n",
       "      <td>1</td>\n",
       "      <td>999</td>\n",
       "      <td>0</td>\n",
       "      <td>nonexistent</td>\n",
       "      <td>1.1</td>\n",
       "      <td>93.994</td>\n",
       "      <td>-36.4</td>\n",
       "      <td>4.857</td>\n",
       "      <td>5191.0</td>\n",
       "      <td>0</td>\n",
       "    </tr>\n",
       "    <tr>\n",
       "      <th>3</th>\n",
       "      <td>45</td>\n",
       "      <td>services</td>\n",
       "      <td>married</td>\n",
       "      <td>basic.9y</td>\n",
       "      <td>unknown</td>\n",
       "      <td>no</td>\n",
       "      <td>no</td>\n",
       "      <td>telephone</td>\n",
       "      <td>may</td>\n",
       "      <td>mon</td>\n",
       "      <td>1</td>\n",
       "      <td>999</td>\n",
       "      <td>0</td>\n",
       "      <td>nonexistent</td>\n",
       "      <td>1.1</td>\n",
       "      <td>93.994</td>\n",
       "      <td>-36.4</td>\n",
       "      <td>4.857</td>\n",
       "      <td>5191.0</td>\n",
       "      <td>0</td>\n",
       "    </tr>\n",
       "    <tr>\n",
       "      <th>4</th>\n",
       "      <td>59</td>\n",
       "      <td>admin.</td>\n",
       "      <td>married</td>\n",
       "      <td>professional.course</td>\n",
       "      <td>no</td>\n",
       "      <td>no</td>\n",
       "      <td>no</td>\n",
       "      <td>telephone</td>\n",
       "      <td>may</td>\n",
       "      <td>mon</td>\n",
       "      <td>1</td>\n",
       "      <td>999</td>\n",
       "      <td>0</td>\n",
       "      <td>nonexistent</td>\n",
       "      <td>1.1</td>\n",
       "      <td>93.994</td>\n",
       "      <td>-36.4</td>\n",
       "      <td>4.857</td>\n",
       "      <td>5191.0</td>\n",
       "      <td>0</td>\n",
       "    </tr>\n",
       "  </tbody>\n",
       "</table>\n",
       "</div>"
      ],
      "text/plain": [
       "   age       job marital_status      education_level is_default housing_type  \\\n",
       "0   57  services        married          high.school    unknown           no   \n",
       "1   37  services        married          high.school         no          yes   \n",
       "2   40    admin.        married             basic.6y         no           no   \n",
       "3   45  services        married             basic.9y    unknown           no   \n",
       "4   59    admin.        married  professional.course         no           no   \n",
       "\n",
       "  loan    contact month day_of_week  campaing  pdays  previous     poutcome  \\\n",
       "0   no  telephone   may         mon         1    999         0  nonexistent   \n",
       "1   no  telephone   may         mon         1    999         0  nonexistent   \n",
       "2   no  telephone   may         mon         1    999         0  nonexistent   \n",
       "3   no  telephone   may         mon         1    999         0  nonexistent   \n",
       "4   no  telephone   may         mon         1    999         0  nonexistent   \n",
       "\n",
       "   emp_var_rate  cons_price_index  cons_conf_index  euribor_3m  n_employed  \\\n",
       "0           1.1            93.994            -36.4       4.857      5191.0   \n",
       "1           1.1            93.994            -36.4       4.857      5191.0   \n",
       "2           1.1            93.994            -36.4       4.857      5191.0   \n",
       "3           1.1            93.994            -36.4       4.857      5191.0   \n",
       "4           1.1            93.994            -36.4       4.857      5191.0   \n",
       "\n",
       "   output  \n",
       "0       0  \n",
       "1       0  \n",
       "2       0  \n",
       "3       0  \n",
       "4       0  "
      ]
     },
     "execution_count": 8,
     "metadata": {},
     "output_type": "execute_result"
    }
   ],
   "source": [
    "train_df.head()"
   ]
  },
  {
   "cell_type": "markdown",
   "metadata": {
    "id": "UsE5hDEmSqAE"
   },
   "source": [
    "## 2.- Exploratory Data Analysis (Data Understanding / Descriptive Analysis)"
   ]
  },
  {
   "cell_type": "code",
   "execution_count": null,
   "metadata": {
    "id": "eYACIbudSr0R"
   },
   "outputs": [],
   "source": [
    "##------------------------\n",
    "# Analyze the data\n",
    "\n"
   ]
  },
  {
   "cell_type": "code",
   "execution_count": null,
   "metadata": {
    "id": "5rCNLAf36a1-"
   },
   "outputs": [],
   "source": []
  },
  {
   "cell_type": "code",
   "execution_count": null,
   "metadata": {
    "id": "Y3c4hlYnPZkC"
   },
   "outputs": [],
   "source": []
  },
  {
   "cell_type": "code",
   "execution_count": null,
   "metadata": {
    "id": "crmAdgRBPofm"
   },
   "outputs": [],
   "source": []
  },
  {
   "cell_type": "code",
   "execution_count": null,
   "metadata": {
    "id": "c5PNWuG47ZRA"
   },
   "outputs": [],
   "source": []
  },
  {
   "cell_type": "markdown",
   "metadata": {
    "id": "RO6C-RQZPfln"
   },
   "source": [
    "### 2.1.- Descriptive Analysis"
   ]
  },
  {
   "cell_type": "code",
   "execution_count": null,
   "metadata": {
    "id": "HjeaRySHPy0I"
   },
   "outputs": [],
   "source": []
  },
  {
   "cell_type": "code",
   "execution_count": null,
   "metadata": {
    "id": "ewREgpgDP0Zt"
   },
   "outputs": [],
   "source": []
  },
  {
   "cell_type": "code",
   "execution_count": null,
   "metadata": {
    "id": "s7ihnjZVP1rj"
   },
   "outputs": [],
   "source": []
  },
  {
   "cell_type": "markdown",
   "metadata": {
    "id": "u7cJ-I_gP9oH"
   },
   "source": [
    "#### Correlations"
   ]
  },
  {
   "cell_type": "code",
   "execution_count": null,
   "metadata": {
    "id": "DKsYSN5-QCzf"
   },
   "outputs": [],
   "source": []
  },
  {
   "cell_type": "code",
   "execution_count": null,
   "metadata": {
    "id": "dTsjPe8dQFAZ"
   },
   "outputs": [],
   "source": []
  },
  {
   "cell_type": "code",
   "execution_count": null,
   "metadata": {
    "id": "otBV980OQG1i"
   },
   "outputs": [],
   "source": []
  },
  {
   "cell_type": "code",
   "execution_count": null,
   "metadata": {
    "id": "3k9YN9TRQKId"
   },
   "outputs": [],
   "source": []
  },
  {
   "cell_type": "markdown",
   "metadata": {
    "id": "chaELnxhEMbt"
   },
   "source": [
    "#### Feature Engineering\n",
    "Apply here all the transformations you consider necessary for training a model."
   ]
  },
  {
   "cell_type": "code",
   "execution_count": null,
   "metadata": {
    "id": "qr1vgrFlEfbY"
   },
   "outputs": [],
   "source": [
    "train_transformed = train_df[['age','campaing','pdays',\n",
    "                              'previous','emp_var_rate', 'cons_price_index',\n",
    "                              'cons_conf_index', 'euribor_3m', 'n_employed',\n",
    "                              'output']]"
   ]
  },
  {
   "cell_type": "code",
   "execution_count": null,
   "metadata": {
    "id": "o3yVst6LEfVg"
   },
   "outputs": [],
   "source": [
    "### EJEMPLO\n",
    "\n",
    "## Crear el encoder\n",
    "#encoder_contact = OneHotEncoder()\n",
    "\n",
    "## Fit\n",
    "#encoder_contact.fit(train_transformed)\n",
    "\n",
    "# Transform\n",
    "#train_transformed = encoder_contact.transform(train_transformed)\n",
    "\n"
   ]
  },
  {
   "cell_type": "code",
   "execution_count": null,
   "metadata": {
    "id": "o_QLrnShEfRu"
   },
   "outputs": [],
   "source": []
  },
  {
   "cell_type": "code",
   "execution_count": null,
   "metadata": {
    "id": "9MdYwc3jEKH9"
   },
   "outputs": [],
   "source": []
  },
  {
   "cell_type": "markdown",
   "metadata": {
    "id": "PGE47tSdQMaq"
   },
   "source": [
    "## 3.- Data Model"
   ]
  },
  {
   "cell_type": "code",
   "execution_count": null,
   "metadata": {
    "id": "0MieOuPpQWj5"
   },
   "outputs": [],
   "source": [
    "##----------------------------\n",
    "# Train & Test split\n",
    "\n",
    "X = train_transformed.drop('output',axis=1)\n",
    "y = train_transformed['output']\n",
    "\n",
    "seed =   1957 #año de nacimiento\n",
    "test_size =  0.2\n",
    "\n",
    "X_train, X_test, y_train, y_test = train_test_split(X,y, random_state = seed , test_size = test_size)\n"
   ]
  },
  {
   "cell_type": "markdown",
   "metadata": {
    "id": "JNTV4djkQjwW"
   },
   "source": [
    "### 3.1.- Training a Logistic Regression Model"
   ]
  },
  {
   "cell_type": "code",
   "execution_count": null,
   "metadata": {
    "id": "_LyHG5WkG8-H"
   },
   "outputs": [],
   "source": []
  },
  {
   "cell_type": "code",
   "execution_count": null,
   "metadata": {
    "id": "f46Lu793Qpc-"
   },
   "outputs": [],
   "source": [
    "#----------------------------------------\n",
    "# Train a model\n",
    "from sklearn.linear_model import LogisticRegression\n",
    "\n",
    "model_rl_1 =  LogisticRegression(solver = 'liblinear', random_state= 1234)\n",
    "model_rl_1.fit(X_train, y_train)\n",
    "\n",
    "#-----------------------------------------\n",
    "# Predict con el dataset de test\n",
    "\n",
    "y_pred = model_rl_1.predict(X_test)\n",
    "y_pred_prb = model_rl_1.predict_proba(X_test)"
   ]
  },
  {
   "cell_type": "code",
   "execution_count": null,
   "metadata": {
    "id": "Ykh3hYz-Qyf-"
   },
   "outputs": [],
   "source": [
    "#--------------------------------------------\n",
    "# Compute Metrics\n",
    "\n",
    "##----------------------------------------\n",
    "# Compute metrics Function\n",
    "\n",
    "def compute_metrics(model,X_train, y_train, X_test, y_test, trh = 0.5):\n",
    "  y_pred_proba_train = model.predict_proba(X_train)[:, 1]\n",
    "  y_pred_proba_test = model.predict_proba(X_test)[:, 1]\n",
    "  y_pred = (model.predict_proba(X_test)[:,1] >= trh).astype(bool)\n",
    "\n",
    "  [fpr_train, tpr_train, thr_train] = metrics.roc_curve(y_train, y_pred_proba_train)\n",
    "  [fpr_test, tpr_test, thr_test] = metrics.roc_curve(y_test, y_pred_proba_test)\n",
    "\n",
    "\n",
    "  mcm = metrics.confusion_matrix(y_test, y_pred)\n",
    "  tn = mcm[0, 0]\n",
    "  tp = mcm[1, 1]\n",
    "  fn = mcm[1, 0]\n",
    "  fp = mcm[0, 1]\n",
    "\n",
    "  Specificity = tn / (tn + fp)\n",
    "\n",
    "  #create ROC curve\n",
    "  plt.plot(fpr_train,tpr_train, '-r')\n",
    "  plt.plot(fpr_test,tpr_test, '-b')\n",
    "  plt.plot([0, 1], ls=\"--\")\n",
    "  plt.legend(['train','test'])\n",
    "  plt.ylabel('True Positive Rate')\n",
    "  plt.xlabel('False Positive Rate')\n",
    "  plt.show()\n",
    "\n",
    "  print('Train/Test split results:')\n",
    "  print(model.__class__.__name__+\" accuracy is %2.3f\" % metrics.accuracy_score(y_test, y_pred))\n",
    "  print(model.__class__.__name__+\" auc in test is %2.3f\" % metrics.auc(fpr_test, tpr_test))\n",
    "  print(model.__class__.__name__+\" auc in train is %2.3f\" % metrics.auc(fpr_train, tpr_train))\n",
    "  print(model.__class__.__name__+\" Sensitivity is %2.3f\" % metrics.recall_score(y_test, y_pred))\n",
    "  print(model.__class__.__name__+\" Specificity is %2.3f\" % Specificity)\n",
    "  print(model.__class__.__name__+\" F1 is %2.3f\" % metrics.f1_score(y_test, y_pred))"
   ]
  },
  {
   "cell_type": "code",
   "execution_count": null,
   "metadata": {
    "colab": {
     "base_uri": "https://localhost:8080/",
     "height": 570
    },
    "id": "GSu_FrTiUTjp",
    "outputId": "e4f48d29-cf3e-4a19-a273-9cbc33c9736b"
   },
   "outputs": [
    {
     "data": {
      "image/png": "[encoded data removed]",
      "text/plain": [
       "<Figure size 640x480 with 1 Axes>"
      ]
     },
     "metadata": {},
     "output_type": "display_data"
    },
    {
     "name": "stdout",
     "output_type": "stream",
     "text": [
      "Train/Test split results:\n",
      "LogisticRegression accuracy is 0.898\n",
      "LogisticRegression auc in test is 0.746\n",
      "LogisticRegression auc in train is 0.760\n",
      "LogisticRegression Sensitivity is 0.196\n",
      "LogisticRegression Specificity is 0.989\n",
      "LogisticRegression F1 is 0.307\n"
     ]
    }
   ],
   "source": [
    "compute_metrics(model_rl_1, X_train, y_train, X_test, y_test)"
   ]
  },
  {
   "cell_type": "code",
   "execution_count": null,
   "metadata": {
    "id": "nOCjg0EqUfty"
   },
   "outputs": [],
   "source": []
  },
  {
   "cell_type": "markdown",
   "metadata": {
    "id": "Q_u_rID0HPbC"
   },
   "source": [
    "## Kaggle Submission"
   ]
  },
  {
   "cell_type": "code",
   "execution_count": null,
   "metadata": {
    "id": "kiWc5frHHNIf"
   },
   "outputs": [],
   "source": [
    "## Kaggle Competition\n",
    "#---> https://www.kaggle.com/t/316fa1a3165d42d0aed367fba46c7601\n",
    "\n"
   ]
  },
  {
   "cell_type": "code",
   "execution_count": null,
   "metadata": {
    "colab": {
     "base_uri": "https://localhost:8080/"
    },
    "id": "LyEstrfjHOw3",
    "outputId": "94fda87b-b411-45a3-b790-2234c5d7e151"
   },
   "outputs": [
    {
     "name": "stdout",
     "output_type": "stream",
     "text": [
      "Downloading...\n",
      "From: https://drive.google.com/uc?id=1YOzZY6MrVyYfmW5YkKYj1afmyaAHmHvD\n",
      "To: /content/test.csv\n",
      "\r  0% 0.00/954k [00:00<?, ?B/s]\r100% 954k/954k [00:00<00:00, 118MB/s]\n"
     ]
    }
   ],
   "source": [
    "# Descarga el dataset de test para hacer la predicción:\n",
    "import pandas as pd\n",
    "\n",
    "if Local == True:\n",
    "    !gdown https://drive.google.com/uc?id=1YOzZY6MrVyYfmW5YkKYj1afmyaAHmHvD\n",
    "    valid_df = pd.read_csv('test.csv')\n",
    "else:\n",
    "    valid_df = pd.read_csv(\"/kaggle/input/2310-machine-learning-avanzado-immune/test.csv\")"
   ]
  },
  {
   "cell_type": "code",
   "execution_count": null,
   "metadata": {
    "colab": {
     "base_uri": "https://localhost:8080/",
     "height": 226
    },
    "id": "BmQkA8FYJ6z3",
    "outputId": "d30cb401-48ec-4e1d-904e-b363a0e75762"
   },
   "outputs": [
    {
     "data": {
      "application/vnd.google.colaboratory.intrinsic+json": {
       "summary": "{\n  \"name\": \"valid_df\",\n  \"rows\": 8080,\n  \"fields\": [\n    {\n      \"column\": \"id\",\n      \"properties\": {\n        \"dtype\": \"number\",\n        \"std\": 11865,\n        \"min\": 0,\n        \"max\": 41186,\n        \"num_unique_values\": 8080,\n        \"samples\": [\n          38639,\n          10403,\n          38848\n        ],\n        \"semantic_type\": \"\",\n        \"description\": \"\"\n      }\n    },\n    {\n      \"column\": \"age\",\n      \"properties\": {\n        \"dtype\": \"number\",\n        \"std\": 10,\n        \"min\": 17,\n        \"max\": 98,\n        \"num_unique_values\": 75,\n        \"samples\": [\n          59,\n          17,\n          38\n        ],\n        \"semantic_type\": \"\",\n        \"description\": \"\"\n      }\n    },\n    {\n      \"column\": \"job\",\n      \"properties\": {\n        \"dtype\": \"category\",\n        \"num_unique_values\": 12,\n        \"samples\": [\n          \"self-employed\",\n          \"student\",\n          \"housemaid\"\n        ],\n        \"semantic_type\": \"\",\n        \"description\": \"\"\n      }\n    },\n    {\n      \"column\": \"marital_status\",\n      \"properties\": {\n        \"dtype\": \"category\",\n        \"num_unique_values\": 4,\n        \"samples\": [\n          \"divorced\",\n          \"unknown\",\n          \"married\"\n        ],\n        \"semantic_type\": \"\",\n        \"description\": \"\"\n      }\n    },\n    {\n      \"column\": \"education_level\",\n      \"properties\": {\n        \"dtype\": \"category\",\n        \"num_unique_values\": 8,\n        \"samples\": [\n          \"high.school\",\n          \"basic.9y\",\n          \"basic.4y\"\n        ],\n        \"semantic_type\": \"\",\n        \"description\": \"\"\n      }\n    },\n    {\n      \"column\": \"is_default\",\n      \"properties\": {\n        \"dtype\": \"category\",\n        \"num_unique_values\": 3,\n        \"samples\": [\n          \"no\",\n          \"unknown\",\n          \"yes\"\n        ],\n        \"semantic_type\": \"\",\n        \"description\": \"\"\n      }\n    },\n    {\n      \"column\": \"housing_type\",\n      \"properties\": {\n        \"dtype\": \"category\",\n        \"num_unique_values\": 3,\n        \"samples\": [\n          \"no\",\n          \"yes\",\n          \"unknown\"\n        ],\n        \"semantic_type\": \"\",\n        \"description\": \"\"\n      }\n    },\n    {\n      \"column\": \"loan\",\n      \"properties\": {\n        \"dtype\": \"category\",\n        \"num_unique_values\": 3,\n        \"samples\": [\n          \"no\",\n          \"yes\",\n          \"unknown\"\n        ],\n        \"semantic_type\": \"\",\n        \"description\": \"\"\n      }\n    },\n    {\n      \"column\": \"contact\",\n      \"properties\": {\n        \"dtype\": \"category\",\n        \"num_unique_values\": 2,\n        \"samples\": [\n          \"cellular\",\n          \"telephone\"\n        ],\n        \"semantic_type\": \"\",\n        \"description\": \"\"\n      }\n    },\n    {\n      \"column\": \"month\",\n      \"properties\": {\n        \"dtype\": \"category\",\n        \"num_unique_values\": 10,\n        \"samples\": [\n          \"apr\",\n          \"jun\"\n        ],\n        \"semantic_type\": \"\",\n        \"description\": \"\"\n      }\n    },\n    {\n      \"column\": \"day_of_week\",\n      \"properties\": {\n        \"dtype\": \"category\",\n        \"num_unique_values\": 5,\n        \"samples\": [\n          \"tue\",\n          \"fri\"\n        ],\n        \"semantic_type\": \"\",\n        \"description\": \"\"\n      }\n    },\n    {\n      \"column\": \"campaing\",\n      \"properties\": {\n        \"dtype\": \"number\",\n        \"std\": 2,\n        \"min\": 1,\n        \"max\": 42,\n        \"num_unique_values\": 32,\n        \"samples\": [\n          29,\n          19\n        ],\n        \"semantic_type\": \"\",\n        \"description\": \"\"\n      }\n    },\n    {\n      \"column\": \"pdays\",\n      \"properties\": {\n        \"dtype\": \"number\",\n        \"std\": 178,\n        \"min\": 0,\n        \"max\": 999,\n        \"num_unique_values\": 21,\n        \"samples\": [\n          999,\n          16\n        ],\n        \"semantic_type\": \"\",\n        \"description\": \"\"\n      }\n    },\n    {\n      \"column\": \"previous\",\n      \"properties\": {\n        \"dtype\": \"number\",\n        \"std\": 0,\n        \"min\": 0,\n        \"max\": 6,\n        \"num_unique_values\": 7,\n        \"samples\": [\n          0,\n          1\n        ],\n        \"semantic_type\": \"\",\n        \"description\": \"\"\n      }\n    },\n    {\n      \"column\": \"poutcome\",\n      \"properties\": {\n        \"dtype\": \"category\",\n        \"num_unique_values\": 3,\n        \"samples\": [\n          \"nonexistent\",\n          \"failure\"\n        ],\n        \"semantic_type\": \"\",\n        \"description\": \"\"\n      }\n    },\n    {\n      \"column\": \"emp_var_rate\",\n      \"properties\": {\n        \"dtype\": \"number\",\n        \"std\": 1.5607755283538702,\n        \"min\": -3.4,\n        \"max\": 1.4,\n        \"num_unique_values\": 10,\n        \"samples\": [\n          -1.7,\n          1.4\n        ],\n        \"semantic_type\": \"\",\n        \"description\": \"\"\n      }\n    },\n    {\n      \"column\": \"cons_price_index\",\n      \"properties\": {\n        \"dtype\": \"number\",\n        \"std\": 0.5745676720365629,\n        \"min\": 92.201,\n        \"max\": 94.767,\n        \"num_unique_values\": 26,\n        \"samples\": [\n          93.075,\n          92.713\n        ],\n        \"semantic_type\": \"\",\n        \"description\": \"\"\n      }\n    },\n    {\n      \"column\": \"cons_conf_index\",\n      \"properties\": {\n        \"dtype\": \"number\",\n        \"std\": 4.6253612412148675,\n        \"min\": -50.8,\n        \"max\": -26.9,\n        \"num_unique_values\": 26,\n        \"samples\": [\n          -47.1,\n          -33.0\n        ],\n        \"semantic_type\": \"\",\n        \"description\": \"\"\n      }\n    },\n    {\n      \"column\": \"euribor_3m\",\n      \"properties\": {\n        \"dtype\": \"number\",\n        \"std\": 1.7294293189345296,\n        \"min\": 0.634,\n        \"max\": 5.045,\n        \"num_unique_values\": 279,\n        \"samples\": [\n          4.827,\n          0.851\n        ],\n        \"semantic_type\": \"\",\n        \"description\": \"\"\n      }\n    },\n    {\n      \"column\": \"n_employed\",\n      \"properties\": {\n        \"dtype\": \"number\",\n        \"std\": 71.93648313113329,\n        \"min\": 4963.6,\n        \"max\": 5228.1,\n        \"num_unique_values\": 11,\n        \"samples\": [\n          5076.2,\n          5191.0\n        ],\n        \"semantic_type\": \"\",\n        \"description\": \"\"\n      }\n    }\n  ]\n}",
       "type": "dataframe",
       "variable_name": "valid_df"
      },
      "text/html": [
       "\n",
       "  <div id=\"df-29ad2216-a28c-4cff-933a-b46e98b4116e\" class=\"colab-df-container\">\n",
       "    <div>\n",
       "<style scoped>\n",
       "    .dataframe tbody tr th:only-of-type {\n",
       "        vertical-align: middle;\n",
       "    }\n",
       "\n",
       "    .dataframe tbody tr th {\n",
       "        vertical-align: top;\n",
       "    }\n",
       "\n",
       "    .dataframe thead th {\n",
       "        text-align: right;\n",
       "    }\n",
       "</style>\n",
       "<table border=\"1\" class=\"dataframe\">\n",
       "  <thead>\n",
       "    <tr style=\"text-align: right;\">\n",
       "      <th></th>\n",
       "      <th>id</th>\n",
       "      <th>age</th>\n",
       "      <th>job</th>\n",
       "      <th>marital_status</th>\n",
       "      <th>education_level</th>\n",
       "      <th>is_default</th>\n",
       "      <th>housing_type</th>\n",
       "      <th>loan</th>\n",
       "      <th>contact</th>\n",
       "      <th>month</th>\n",
       "      <th>day_of_week</th>\n",
       "      <th>campaing</th>\n",
       "      <th>pdays</th>\n",
       "      <th>previous</th>\n",
       "      <th>poutcome</th>\n",
       "      <th>emp_var_rate</th>\n",
       "      <th>cons_price_index</th>\n",
       "      <th>cons_conf_index</th>\n",
       "      <th>euribor_3m</th>\n",
       "      <th>n_employed</th>\n",
       "    </tr>\n",
       "  </thead>\n",
       "  <tbody>\n",
       "    <tr>\n",
       "      <th>0</th>\n",
       "      <td>0</td>\n",
       "      <td>56</td>\n",
       "      <td>housemaid</td>\n",
       "      <td>married</td>\n",
       "      <td>basic.4y</td>\n",
       "      <td>no</td>\n",
       "      <td>no</td>\n",
       "      <td>no</td>\n",
       "      <td>telephone</td>\n",
       "      <td>may</td>\n",
       "      <td>mon</td>\n",
       "      <td>1</td>\n",
       "      <td>999</td>\n",
       "      <td>0</td>\n",
       "      <td>nonexistent</td>\n",
       "      <td>1.1</td>\n",
       "      <td>93.994</td>\n",
       "      <td>-36.4</td>\n",
       "      <td>4.857</td>\n",
       "      <td>5191.0</td>\n",
       "    </tr>\n",
       "    <tr>\n",
       "      <th>1</th>\n",
       "      <td>4</td>\n",
       "      <td>56</td>\n",
       "      <td>services</td>\n",
       "      <td>married</td>\n",
       "      <td>high.school</td>\n",
       "      <td>no</td>\n",
       "      <td>no</td>\n",
       "      <td>yes</td>\n",
       "      <td>telephone</td>\n",
       "      <td>may</td>\n",
       "      <td>mon</td>\n",
       "      <td>1</td>\n",
       "      <td>999</td>\n",
       "      <td>0</td>\n",
       "      <td>nonexistent</td>\n",
       "      <td>1.1</td>\n",
       "      <td>93.994</td>\n",
       "      <td>-36.4</td>\n",
       "      <td>4.857</td>\n",
       "      <td>5191.0</td>\n",
       "    </tr>\n",
       "    <tr>\n",
       "      <th>2</th>\n",
       "      <td>10</td>\n",
       "      <td>41</td>\n",
       "      <td>blue-collar</td>\n",
       "      <td>married</td>\n",
       "      <td>unknown</td>\n",
       "      <td>unknown</td>\n",
       "      <td>no</td>\n",
       "      <td>no</td>\n",
       "      <td>telephone</td>\n",
       "      <td>may</td>\n",
       "      <td>mon</td>\n",
       "      <td>1</td>\n",
       "      <td>999</td>\n",
       "      <td>0</td>\n",
       "      <td>nonexistent</td>\n",
       "      <td>1.1</td>\n",
       "      <td>93.994</td>\n",
       "      <td>-36.4</td>\n",
       "      <td>4.857</td>\n",
       "      <td>5191.0</td>\n",
       "    </tr>\n",
       "    <tr>\n",
       "      <th>3</th>\n",
       "      <td>14</td>\n",
       "      <td>35</td>\n",
       "      <td>blue-collar</td>\n",
       "      <td>married</td>\n",
       "      <td>basic.6y</td>\n",
       "      <td>no</td>\n",
       "      <td>yes</td>\n",
       "      <td>no</td>\n",
       "      <td>telephone</td>\n",
       "      <td>may</td>\n",
       "      <td>mon</td>\n",
       "      <td>1</td>\n",
       "      <td>999</td>\n",
       "      <td>0</td>\n",
       "      <td>nonexistent</td>\n",
       "      <td>1.1</td>\n",
       "      <td>93.994</td>\n",
       "      <td>-36.4</td>\n",
       "      <td>4.857</td>\n",
       "      <td>5191.0</td>\n",
       "    </tr>\n",
       "    <tr>\n",
       "      <th>4</th>\n",
       "      <td>21</td>\n",
       "      <td>55</td>\n",
       "      <td>blue-collar</td>\n",
       "      <td>married</td>\n",
       "      <td>basic.4y</td>\n",
       "      <td>unknown</td>\n",
       "      <td>yes</td>\n",
       "      <td>no</td>\n",
       "      <td>telephone</td>\n",
       "      <td>may</td>\n",
       "      <td>mon</td>\n",
       "      <td>1</td>\n",
       "      <td>999</td>\n",
       "      <td>0</td>\n",
       "      <td>nonexistent</td>\n",
       "      <td>1.1</td>\n",
       "      <td>93.994</td>\n",
       "      <td>-36.4</td>\n",
       "      <td>4.857</td>\n",
       "      <td>5191.0</td>\n",
       "    </tr>\n",
       "  </tbody>\n",
       "</table>\n",
       "</div>\n",
       "    <div class=\"colab-df-buttons\">\n",
       "\n",
       "  <div class=\"colab-df-container\">\n",
       "    <button class=\"colab-df-convert\" onclick=\"convertToInteractive('df-29ad2216-a28c-4cff-933a-b46e98b4116e')\"\n",
       "            title=\"Convert this dataframe to an interactive table.\"\n",
       "            style=\"display:none;\">\n",
       "\n",
       "  <svg xmlns=\"http://www.w3.org/2000/svg\" height=\"24px\" viewBox=\"0 -960 960 960\">\n",
       "    <path d=\"M120-120v-720h720v720H120Zm60-500h600v-160H180v160Zm220 220h160v-160H400v160Zm0 220h160v-160H400v160ZM180-400h160v-160H180v160Zm440 0h160v-160H620v160ZM180-180h160v-160H180v160Zm440 0h160v-160H620v160Z\"/>\n",
       "  </svg>\n",
       "    </button>\n",
       "\n",
       "  <style>\n",
       "    .colab-df-container {\n",
       "      display:flex;\n",
       "      gap: 12px;\n",
       "    }\n",
       "\n",
       "    .colab-df-convert {\n",
       "      background-color: #E8F0FE;\n",
       "      border: none;\n",
       "      border-radius: 50%;\n",
       "      cursor: pointer;\n",
       "      display: none;\n",
       "      fill: #1967D2;\n",
       "      height: 32px;\n",
       "      padding: 0 0 0 0;\n",
       "      width: 32px;\n",
       "    }\n",
       "\n",
       "    .colab-df-convert:hover {\n",
       "      background-color: #E2EBFA;\n",
       "      box-shadow: 0px 1px 2px rgba(60, 64, 67, 0.3), 0px 1px 3px 1px rgba(60, 64, 67, 0.15);\n",
       "      fill: #174EA6;\n",
       "    }\n",
       "\n",
       "    .colab-df-buttons div {\n",
       "      margin-bottom: 4px;\n",
       "    }\n",
       "\n",
       "    [theme=dark] .colab-df-convert {\n",
       "      background-color: #3B4455;\n",
       "      fill: #D2E3FC;\n",
       "    }\n",
       "\n",
       "    [theme=dark] .colab-df-convert:hover {\n",
       "      background-color: #434B5C;\n",
       "      box-shadow: 0px 1px 3px 1px rgba(0, 0, 0, 0.15);\n",
       "      filter: drop-shadow(0px 1px 2px rgba(0, 0, 0, 0.3));\n",
       "      fill: #FFFFFF;\n",
       "    }\n",
       "  </style>\n",
       "\n",
       "    <script>\n",
       "      const buttonEl =\n",
       "        document.querySelector('#df-29ad2216-a28c-4cff-933a-b46e98b4116e button.colab-df-convert');\n",
       "      buttonEl.style.display =\n",
       "        google.colab.kernel.accessAllowed ? 'block' : 'none';\n",
       "\n",
       "      async function convertToInteractive(key) {\n",
       "        const element = document.querySelector('#df-29ad2216-a28c-4cff-933a-b46e98b4116e');\n",
       "        const dataTable =\n",
       "          await google.colab.kernel.invokeFunction('convertToInteractive',\n",
       "                                                    [key], {});\n",
       "        if (!dataTable) return;\n",
       "\n",
       "        const docLinkHtml = 'Like what you see? Visit the ' +\n",
       "          '<a target=\"_blank\" href=https://colab.research.google.com/notebooks/data_table.ipynb>data table notebook</a>'\n",
       "          + ' to learn more about interactive tables.';\n",
       "        element.innerHTML = '';\n",
       "        dataTable['output_type'] = 'display_data';\n",
       "        await google.colab.output.renderOutput(dataTable, element);\n",
       "        const docLink = document.createElement('div');\n",
       "        docLink.innerHTML = docLinkHtml;\n",
       "        element.appendChild(docLink);\n",
       "      }\n",
       "    </script>\n",
       "  </div>\n",
       "\n",
       "\n",
       "<div id=\"df-a5e68573-0fb5-455a-a350-c31ac2f49670\">\n",
       "  <button class=\"colab-df-quickchart\" onclick=\"quickchart('df-a5e68573-0fb5-455a-a350-c31ac2f49670')\"\n",
       "            title=\"Suggest charts\"\n",
       "            style=\"display:none;\">\n",
       "\n",
       "<svg xmlns=\"http://www.w3.org/2000/svg\" height=\"24px\"viewBox=\"0 0 24 24\"\n",
       "     width=\"24px\">\n",
       "    <g>\n",
       "        <path d=\"M19 3H5c-1.1 0-2 .9-2 2v14c0 1.1.9 2 2 2h14c1.1 0 2-.9 2-2V5c0-1.1-.9-2-2-2zM9 17H7v-7h2v7zm4 0h-2V7h2v10zm4 0h-2v-4h2v4z\"/>\n",
       "    </g>\n",
       "</svg>\n",
       "  </button>\n",
       "\n",
       "<style>\n",
       "  .colab-df-quickchart {\n",
       "      --bg-color: #E8F0FE;\n",
       "      --fill-color: #1967D2;\n",
       "      --hover-bg-color: #E2EBFA;\n",
       "      --hover-fill-color: #174EA6;\n",
       "      --disabled-fill-color: #AAA;\n",
       "      --disabled-bg-color: #DDD;\n",
       "  }\n",
       "\n",
       "  [theme=dark] .colab-df-quickchart {\n",
       "      --bg-color: #3B4455;\n",
       "      --fill-color: #D2E3FC;\n",
       "      --hover-bg-color: #434B5C;\n",
       "      --hover-fill-color: #FFFFFF;\n",
       "      --disabled-bg-color: #3B4455;\n",
       "      --disabled-fill-color: #666;\n",
       "  }\n",
       "\n",
       "  .colab-df-quickchart {\n",
       "    background-color: var(--bg-color);\n",
       "    border: none;\n",
       "    border-radius: 50%;\n",
       "    cursor: pointer;\n",
       "    display: none;\n",
       "    fill: var(--fill-color);\n",
       "    height: 32px;\n",
       "    padding: 0;\n",
       "    width: 32px;\n",
       "  }\n",
       "\n",
       "  .colab-df-quickchart:hover {\n",
       "    background-color: var(--hover-bg-color);\n",
       "    box-shadow: 0 1px 2px rgba(60, 64, 67, 0.3), 0 1px 3px 1px rgba(60, 64, 67, 0.15);\n",
       "    fill: var(--button-hover-fill-color);\n",
       "  }\n",
       "\n",
       "  .colab-df-quickchart-complete:disabled,\n",
       "  .colab-df-quickchart-complete:disabled:hover {\n",
       "    background-color: var(--disabled-bg-color);\n",
       "    fill: var(--disabled-fill-color);\n",
       "    box-shadow: none;\n",
       "  }\n",
       "\n",
       "  .colab-df-spinner {\n",
       "    border: 2px solid var(--fill-color);\n",
       "    border-color: transparent;\n",
       "    border-bottom-color: var(--fill-color);\n",
       "    animation:\n",
       "      spin 1s steps(1) infinite;\n",
       "  }\n",
       "\n",
       "  @keyframes spin {\n",
       "    0% {\n",
       "      border-color: transparent;\n",
       "      border-bottom-color: var(--fill-color);\n",
       "      border-left-color: var(--fill-color);\n",
       "    }\n",
       "    20% {\n",
       "      border-color: transparent;\n",
       "      border-left-color: var(--fill-color);\n",
       "      border-top-color: var(--fill-color);\n",
       "    }\n",
       "    30% {\n",
       "      border-color: transparent;\n",
       "      border-left-color: var(--fill-color);\n",
       "      border-top-color: var(--fill-color);\n",
       "      border-right-color: var(--fill-color);\n",
       "    }\n",
       "    40% {\n",
       "      border-color: transparent;\n",
       "      border-right-color: var(--fill-color);\n",
       "      border-top-color: var(--fill-color);\n",
       "    }\n",
       "    60% {\n",
       "      border-color: transparent;\n",
       "      border-right-color: var(--fill-color);\n",
       "    }\n",
       "    80% {\n",
       "      border-color: transparent;\n",
       "      border-right-color: var(--fill-color);\n",
       "      border-bottom-color: var(--fill-color);\n",
       "    }\n",
       "    90% {\n",
       "      border-color: transparent;\n",
       "      border-bottom-color: var(--fill-color);\n",
       "    }\n",
       "  }\n",
       "</style>\n",
       "\n",
       "  <script>\n",
       "    async function quickchart(key) {\n",
       "      const quickchartButtonEl =\n",
       "        document.querySelector('#' + key + ' button');\n",
       "      quickchartButtonEl.disabled = true;  // To prevent multiple clicks.\n",
       "      quickchartButtonEl.classList.add('colab-df-spinner');\n",
       "      try {\n",
       "        const charts = await google.colab.kernel.invokeFunction(\n",
       "            'suggestCharts', [key], {});\n",
       "      } catch (error) {\n",
       "        console.error('Error during call to suggestCharts:', error);\n",
       "      }\n",
       "      quickchartButtonEl.classList.remove('colab-df-spinner');\n",
       "      quickchartButtonEl.classList.add('colab-df-quickchart-complete');\n",
       "    }\n",
       "    (() => {\n",
       "      let quickchartButtonEl =\n",
       "        document.querySelector('#df-a5e68573-0fb5-455a-a350-c31ac2f49670 button');\n",
       "      quickchartButtonEl.style.display =\n",
       "        google.colab.kernel.accessAllowed ? 'block' : 'none';\n",
       "    })();\n",
       "  </script>\n",
       "</div>\n",
       "\n",
       "    </div>\n",
       "  </div>\n"
      ],
      "text/plain": [
       "   id  age          job marital_status education_level is_default  \\\n",
       "0   0   56    housemaid        married        basic.4y         no   \n",
       "1   4   56     services        married     high.school         no   \n",
       "2  10   41  blue-collar        married         unknown    unknown   \n",
       "3  14   35  blue-collar        married        basic.6y         no   \n",
       "4  21   55  blue-collar        married        basic.4y    unknown   \n",
       "\n",
       "  housing_type loan    contact month day_of_week  campaing  pdays  previous  \\\n",
       "0           no   no  telephone   may         mon         1    999         0   \n",
       "1           no  yes  telephone   may         mon         1    999         0   \n",
       "2           no   no  telephone   may         mon         1    999         0   \n",
       "3          yes   no  telephone   may         mon         1    999         0   \n",
       "4          yes   no  telephone   may         mon         1    999         0   \n",
       "\n",
       "      poutcome  emp_var_rate  cons_price_index  cons_conf_index  euribor_3m  \\\n",
       "0  nonexistent           1.1            93.994            -36.4       4.857   \n",
       "1  nonexistent           1.1            93.994            -36.4       4.857   \n",
       "2  nonexistent           1.1            93.994            -36.4       4.857   \n",
       "3  nonexistent           1.1            93.994            -36.4       4.857   \n",
       "4  nonexistent           1.1            93.994            -36.4       4.857   \n",
       "\n",
       "   n_employed  \n",
       "0      5191.0  \n",
       "1      5191.0  \n",
       "2      5191.0  \n",
       "3      5191.0  \n",
       "4      5191.0  "
      ]
     },
     "execution_count": 35,
     "metadata": {},
     "output_type": "execute_result"
    }
   ],
   "source": [
    "valid_df.head()"
   ]
  },
  {
   "cell_type": "markdown",
   "metadata": {
    "id": "RH4vp5MZJ7nS"
   },
   "source": [
    "#### Feature Engineering a valid_df\n",
    "Aplicar las transformaciones a valid_df (las mismas que realizaste para train_df)"
   ]
  },
  {
   "cell_type": "code",
   "execution_count": null,
   "metadata": {
    "id": "C3DBFa1fKOlF"
   },
   "outputs": [],
   "source": [
    "valid_transformed = valid_df[['age','campaing','pdays',\n",
    "                              'previous','emp_var_rate', 'cons_price_index',\n",
    "                              'cons_conf_index', 'euribor_3m', 'n_employed']]"
   ]
  },
  {
   "cell_type": "code",
   "execution_count": null,
   "metadata": {
    "id": "9pn6Sfh5VHqh"
   },
   "outputs": [],
   "source": [
    "#valid_transformed = encoder_contact.transform(valid_transformed)\n"
   ]
  },
  {
   "cell_type": "code",
   "execution_count": null,
   "metadata": {
    "id": "P8NYr-bpVHZI"
   },
   "outputs": [],
   "source": []
  },
  {
   "cell_type": "code",
   "execution_count": null,
   "metadata": {
    "id": "Tzitb7LuKWuo"
   },
   "outputs": [],
   "source": []
  },
  {
   "cell_type": "code",
   "execution_count": null,
   "metadata": {
    "id": "DLxl4sAzKQwp"
   },
   "outputs": [],
   "source": [
    "#################################\n",
    "#Función auxiliar (NO MODIFICAR):\n",
    "#################################\n",
    "\n",
    "def eval_best_model(final_model, valid_df):\n",
    "\n",
    "    if Local == True:\n",
    "      !gdown https://drive.google.com/uc?id=1YOzZY6MrVyYfmW5YkKYj1afmyaAHmHvD\n",
    "      Id_aux = pd.read_csv('test.csv')\n",
    "    else:\n",
    "      Id_aux = pd.read_csv(\"/kaggle/input/2310-machine-learning-avanzado-immune/test.csv\")\n",
    "\n",
    "    columns = final_model.feature_names_in_\n",
    "    X_valid = valid_df[columns]\n",
    "    y_valid_pred = final_model.predict(X_valid)\n",
    "\n",
    "    submission = pd.DataFrame({'id': Id_aux['id'],\n",
    "                               'output': y_valid_pred})\n",
    "    return (submission)"
   ]
  },
  {
   "cell_type": "code",
   "execution_count": null,
   "metadata": {
    "colab": {
     "base_uri": "https://localhost:8080/"
    },
    "id": "cpbGPT_dLCrO",
    "outputId": "90dbfd64-601c-4edb-d59e-cff16d0e568b"
   },
   "outputs": [
    {
     "name": "stdout",
     "output_type": "stream",
     "text": [
      "Downloading...\n",
      "From: https://drive.google.com/uc?id=1YOzZY6MrVyYfmW5YkKYj1afmyaAHmHvD\n",
      "To: /content/test.csv\n",
      "\r  0% 0.00/954k [00:00<?, ?B/s]\r100% 954k/954k [00:00<00:00, 78.0MB/s]\n"
     ]
    }
   ],
   "source": [
    "submission = eval_best_model(model_rl_1, valid_transformed)"
   ]
  },
  {
   "cell_type": "code",
   "execution_count": null,
   "metadata": {
    "id": "hwiNTv1JLL3f"
   },
   "outputs": [],
   "source": [
    "submission.to_csv('./submissionPruebaMarce.csv', index = False)"
   ]
  },
  {
   "cell_type": "code",
   "execution_count": null,
   "metadata": {
    "id": "lAPPlip-mcWz"
   },
   "outputs": [],
   "source": []
  },
  {
   "cell_type": "code",
   "execution_count": null,
   "metadata": {
    "colab": {
     "base_uri": "https://localhost:8080/"
    },
    "id": "Iw2SogyMLR9l",
    "outputId": "c583d87f-22f5-4fa2-8526-f65ea5d69717"
   },
   "outputs": [
    {
     "data": {
      "text/plain": [
       "(8080, 2)"
      ]
     },
     "execution_count": 41,
     "metadata": {},
     "output_type": "execute_result"
    }
   ],
   "source": [
    "submission.shape"
   ]
  },
  {
   "cell_type": "code",
   "execution_count": null,
   "metadata": {
    "id": "lQyz5b20XV1j"
   },
   "outputs": [],
   "source": []
  }
 ],
 "metadata": {
  "colab": {
   "provenance": []
  },
  "kernelspec": {
   "display_name": "Python 3",
   "name": "python3"
  },
  "language_info": {
   "codemirror_mode": {
    "name": "ipython",
    "version": 3
   },
   "file_extension": ".py",
   "mimetype": "text/x-python",
   "name": "python",
   "nbconvert_exporter": "python",
   "pygments_lexer": "ipython3",
   "version": "3.12.5"
  }
 },
 "nbformat": 4,
 "nbformat_minor": 0
}
